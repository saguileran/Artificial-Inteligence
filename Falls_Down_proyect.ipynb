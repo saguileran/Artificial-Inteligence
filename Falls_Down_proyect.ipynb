{
  "nbformat": 4,
  "nbformat_minor": 0,
  "metadata": {
    "colab": {
      "name": "Falls_Down_proyect.ipynb",
      "provenance": [],
      "collapsed_sections": []
    },
    "kernelspec": {
      "name": "python3",
      "display_name": "Python 3"
    }
  },
  "cells": [
    {
      "cell_type": "markdown",
      "metadata": {
        "id": "OQJpc5OlwrJY",
        "colab_type": "text"
      },
      "source": [
        "# Falls Down"
      ]
    },
    {
      "cell_type": "markdown",
      "metadata": {
        "id": "SaX7ajvKzkRB",
        "colab_type": "text"
      },
      "source": [
        "# Members\n",
        "\n",
        "\n",
        "\n",
        "*   Sebastian Aguilera Novoa          - Physics\n",
        "*   Gabriel Jose Alvarez Coral        - Computer science\n",
        "*   Daniel Dario Fula Arguello        - Computer science\n",
        "*   Manuel Sebastián Torres Hernández - Physics\n",
        "\n"
      ]
    },
    {
      "cell_type": "markdown",
      "metadata": {
        "id": "ub1RRzT9414f",
        "colab_type": "text"
      },
      "source": [
        "#Introduction\n",
        "\n",
        " Our team designed three different agents for real-time fall detection intended for use by the elderly. Our agents determined if a fall had occurred using as parameters the 3-axis acceleration and GPS obtained through the sensors of our cellphones.  \n",
        "\n",
        "#Methodology\n",
        "\n",
        "Our first agent detected a fall when the change in acceleration (magnitude) exceeded 9.8, i.e, gravity.  \n",
        "Our second agent detected a fall when the change in acceleration was greater than a given threshold value.\n",
        "Our third agent detected a fall when the change in the angle was greater than a given threshold value.\n",
        "\n",
        "The changes in acceleration and changes in angle were calculated as follows.  \n",
        "\n",
        "$$\n",
        "\\begin{aligned}\n",
        "\\Delta A & =A_{i} - A_{i-1} \\\\\n",
        "\\Delta \\theta &=\\theta_{i} - \\theta_{i-1} \\\\\n",
        "\\theta_{i} &= \\cos^{-1}\\left(\\frac{z}{\\sqrt{x_{i}^2 + y_{i}² + z_{i}²}} \\right) \\\\ \n",
        "\\end{aligned}\n",
        "$$\n",
        "\n",
        "Where $\\theta$  denotes the tilted angle between the accelerometer y-axis and the vertical direction.\n",
        "And x, y, z the usual coordinate axes.\n",
        "\n",
        "To prevent false positive results we tested different thresholds for each parameter.  To determine which threshold values worked best we graphed the acceleration in real-time and looked at the peaks where we knew a fall had occurred and looked at the change in magnitude of the acceleration.  From this we surmised that the best values for the second and third agent were, respectively, 3.0 and 4.0.\n",
        "Lastly, when a fall is detected an email is sent to an emergency contact with the date and time as well as the longitude, latitude and height.\n",
        "\n",
        "#Possible Improvements\n",
        "\n",
        "Design our agents to work even if not connected to the same network.\n",
        "\n",
        "Define the different types of falls, for instance, falling down the stairs.\n",
        "\n",
        "To quantify the rate at which the data is sent and recieved to better understand the delay between the detection  of the fall and the email.\n",
        "\n",
        "Calculate the component-wise change of each sensor, e.g $\\Delta x$, $\\Delta y$, $\\Delta z$ in the accelerometer, to determine the direction of the fall.\n",
        "\n",
        "Measure the height at which the device fell to improve the precision of the fall-detection agent.\n",
        "\n",
        "Create a interactive display which shows the different graphs, accelerometer, gyroscope and angle, in real time.\n",
        "\n",
        "\n",
        "\n",
        "\n"
      ]
    },
    {
      "cell_type": "markdown",
      "metadata": {
        "id": "A5JnQO5gauCI",
        "colab_type": "text"
      },
      "source": [
        "#Code"
      ]
    },
    {
      "cell_type": "code",
      "metadata": {
        "id": "nqEtGlBGavog",
        "colab_type": "code",
        "colab": {}
      },
      "source": [
        "import socket, os, datetime, smtplib, fcntl, sys, os, time, tty, termios\n",
        "import matplotlib.pyplot as plt\n",
        "import numpy as np\n",
        "\n",
        "#------ Capturar entrada teclado------------------\n",
        "class raw(object):\n",
        "    def __init__(self, stream):\n",
        "        self.stream = stream\n",
        "        self.fd = self.stream.fileno()\n",
        "    def __enter__(self):\n",
        "        self.original_stty = termios.tcgetattr(self.stream)\n",
        "        tty.setcbreak(self.stream)\n",
        "    def __exit__(self, type, value, traceback):\n",
        "        termios.tcsetattr(self.stream, termios.TCSANOW, self.original_stty)\n",
        "\n",
        "class nonblocking(object):\n",
        "    def __init__(self, stream):\n",
        "        self.stream = stream\n",
        "        self.fd = self.stream.fileno()\n",
        "    def __enter__(self):\n",
        "        self.orig_fl = fcntl.fcntl(self.fd, fcntl.F_GETFL)\n",
        "        fcntl.fcntl(self.fd, fcntl.F_SETFL, self.orig_fl | os.O_NONBLOCK)\n",
        "    def __exit__(self, *args):\n",
        "        fcntl.fcntl(self.fd, fcntl.F_SETFL, self.orig_fl)\n",
        "\n",
        "print(\"Presione la tecla x para salir.\")\n",
        "\n",
        "#------------Clase-----------\n",
        "class Sensor:\n",
        "    def __init__(self):\n",
        "        self.X=list(np.zeros(10)); self.Y=list(np.zeros(10)); self.Z=list(np.zeros(10)); self.A=list(np.zeros(10)); self.Angulo=list(np.zeros(10));\n",
        "        self.dX=list(np.zeros(10)); self.dY=list(np.zeros(10)); self.dZ=list(np.zeros(10)); self.dA=list(np.zeros(10)); self.dAngulo=list(np.zeros(10))\n",
        "\n",
        "    def getX(self): return(self.X)\n",
        "    def getY(self): return(self.Y)\n",
        "    def getZ(self): return(self.Z)\n",
        "    def getA(self): return(self.A)\n",
        "    def getAngulo(self): return(self.Angulo)\n",
        "    def getdX(self): return(self.dX)\n",
        "    def getdY(self): return(self.dY)\n",
        "    def getdZ(self): return(self.dZ)\n",
        "    def getdA(self): return(self.dA)\n",
        "    def getdAngulo(self): return(self.dAngulo)\n",
        "\n",
        "    def Actualizando(self,x1, y1, z1):\n",
        "        x,y,z = float(x1), float(y1), float(z1)\n",
        "        self.X.pop(0); self.Y.pop(0); self.Z.pop(0); self.A.pop(0); self.Angulo.pop(0) #elimina el primero\n",
        "        self.dX.pop(0); self.dY.pop(0); self.dZ.pop(0); self.dA.pop(0); self.dAngulo.pop(0) #elimina el primero\n",
        "\n",
        "        self.X.append(float(x)); self.Y.append(float(y)); self.Z.append(float(z))\n",
        "        self.A.append((float(x)**2+float(y)**2+float(z)**2)**0.5)\n",
        "        self.Angulo.append(np.arccos(z/(y**2 + z**2+x**2)**0.5) * 180/np.pi) #Angulo theta de esfericas en grados\n",
        "\n",
        "        self.dX.append(self.X[-1]-self.X[-2]);  self.dY.append(self.Y[-1]-self.Y[-2])\n",
        "        self.dZ.append(self.Z[-1]-self.Z[-2]);  self.dA.append(self.A[-1]-self.A[-2])\n",
        "        self.dAngulo.append(self.Angulo[-1]-self.Angulo[-2])\n",
        "\n",
        "#-----------Creando email-----------\n",
        "def Email(sent_body):\n",
        "    gmail_user = 'iaun2019pe@gmail.com'\n",
        "    gmail_password = 'Qwert54321'\n",
        "\n",
        "    sent_from = gmail_user\n",
        "    sent_to = ['ddfulaa@unal.edu.co', 'mstorresh@unal.edu.co','gjalvarezc@unal.edu.co', 'saguileran@unal.edu.co']\n",
        "    sent_subject = 'OMG Super Important Message'\n",
        "   # body = 'Ohhhh my joint has fallen'\n",
        "\n",
        "    email_text = \"\"\"\\\n",
        "From: %s\n",
        "To: %s\n",
        "Subject: %s\n",
        "%s\n",
        "\"\"\" % (sent_from, \", \".join(sent_to), sent_subject, sent_body)\n",
        "    server = smtplib.SMTP_SSL('smtp.gmail.com',465)\n",
        "    server.ehlo()\n",
        "    server.login(gmail_user, gmail_password)\n",
        "    server.sendmail(sent_from, sent_to, email_text)\n",
        "    server.close()\n",
        "    print ('Email sent!')\n",
        "\n",
        "#-------------Creando conexion-------------------\n",
        "UDP_IP_ADDRESS = \"192.168.1.14\"\n",
        "UDP_PORT_NO = 5551\n",
        "\n",
        "serverSock = socket.socket(socket.AF_INET, socket.SOCK_DGRAM)\n",
        "#serverSock.close()\n",
        "serverSock.bind((UDP_IP_ADDRESS, UDP_PORT_NO))\n",
        "\n",
        "#--------------Tomando Datos---------------------------\n",
        "flag, caida= False, False\n",
        "GPS = Sensor(); Acelerometro = Sensor(); Girsocopio = Sensor()\n",
        "Gravedad = Sensor() #83\n",
        "Aceleracion_lineal= Sensor() #82\n",
        "t=0\n",
        "tolacel, tolgrav, tolang = 3, 9, 4\n",
        "\n",
        "with raw(sys.stdin):\n",
        "    with nonblocking(sys.stdin):\n",
        "        while True:\n",
        "            try:\n",
        "                keypressed = sys.stdin.read(1)\n",
        "                data, addr = serverSock.recvfrom(1024)\n",
        "                Data = data.decode(\"utf-8\").split(\",\")\n",
        "\n",
        "                if Data.count(' 1')>0:  GPS.Actualizando(Data[Data.index(' 1')+1], Data[Data.index(' 1')+2], Data[Data.index(' 1')+3]);  k=1\n",
        "                else: k=0\n",
        "                if Data[1+4*k]==' 3':   Acelerometro.Actualizando(Data[2+4*k], Data[3+4*k], Data[4+4*k])\n",
        "                if len(Data)>5 and Data[5+4*k]==4:    Grioscopio.Actualizando(Data[6+4*k], Data[7+4*k], Data[8+4*k])\n",
        "\n",
        "                #print(Acelerometro.getdAngulo()[-1])\n",
        "                #plt.scatter(t,float(Acelerometro.getdA()[-1]))\n",
        "                #plt.pause(0.001);                #t+=1\n",
        "\n",
        "                #--- Pruebas con el acelerometro lineal y la gravedad\n",
        "                if Data.count(' 83')>0 and Data.count(' 82')>0:\n",
        "                    grav = np.array([float(Data[Data.index(' 83')+1]),float(Data[Data.index(' 83')+2]),float(Data[Data.index(' 83')+3])])\n",
        "                    acclin = np.array([float(Data[Data.index(' 82')+1]),float(Data[Data.index(' 82')+2]),float(Data[Data.index(' 82')+3])])\n",
        "                    \n",
        "                    #plt.scatter(t,float(np.linalg.norm(acclin)))\n",
        "                    #plt.pause(0.001);                    t+=1\n",
        "                                \n",
        "                    if np.linalg.norm(acclin) > tolgrav: #Prueba con gravity y vector aceleracion\n",
        "                        coseno = np.dot(grav,acclin)/(np.linalg.norm(grav)*np.linalg.norm(acclin))\n",
        "                        if coseno < -0.90:\n",
        "                            caida = True\n",
        "                            #print(\"Caida! Coseno: \"+ str(coseno)+ \" norma: \"+ str(np.linalg.norm(acclin)))\n",
        "                #----Segundo Detector------\n",
        "                if abs(Acelerometro.getdA()[-1]) > tolacel:\n",
        "                    caida1 = True\n",
        "                #----Tercer Detector------\n",
        "                if abs(Acelerometro.getdAngulo()[-1]) > tolang:\n",
        "                    caida2 = True\n",
        "                #--------Confirmacion de caida------------\n",
        "                if caida and (not flag) and caida1 and caida2:\n",
        "                    print(\"Atention, a fall has occured!\")\n",
        "                    Email(\"Your grandparent has fallen at latitude {}, longitude {} and height  = {} the day {} at {} time. To locate this position go to https://www.gps-coordinates.net and enter the latitude and longitude.\".format(GPS.getX()[-1], GPS.getY()[-1], GPS.getZ()[-1], str(datetime.datetime.now().date()) , str(datetime.datetime.now().time())[:8]))\n",
        "                    flag = True #Para no enviar mas correos\n",
        "                #print(repr(keypressed))\n",
        "                if keypressed==\"x\":\n",
        "                    break\n",
        "            except IOError:\n",
        "                print('Not ready')\n",
        "\n",
        "\n",
        "plt.show()"
      ],
      "execution_count": 0,
      "outputs": []
    },
    {
      "cell_type": "code",
      "metadata": {
        "id": "ZSmswWBFm0EK",
        "colab_type": "code",
        "outputId": "426e6cc1-b3ce-4305-8ed7-0b665f8c1603",
        "colab": {
          "base_uri": "https://localhost:8080/",
          "height": 34
        }
      },
      "source": [
        "!curl ipecho.net/plain"
      ],
      "execution_count": 0,
      "outputs": [
        {
          "output_type": "stream",
          "text": [
            "146.148.36.228"
          ],
          "name": "stdout"
        }
      ]
    },
    {
      "cell_type": "markdown",
      "metadata": {
        "id": "9NTJZ3IY5Uvf",
        "colab_type": "text"
      },
      "source": [
        "# References\n",
        "\n",
        "\n",
        "\n",
        "\n",
        "*   https://www.hindawi.com/journals/jam/2014/896030/\n",
        "\n",
        "*   http://ballingt.com/nonblocking-stdin-in-python-3/\n",
        "\n",
        "*   https://stackabuse.com/how-to-send-emails-with-gmail-using-python/\n",
        "\n"
      ]
    },
    {
      "cell_type": "code",
      "metadata": {
        "id": "JJJM_Vaj4BiG",
        "colab_type": "code",
        "colab": {}
      },
      "source": [
        ""
      ],
      "execution_count": 0,
      "outputs": []
    }
  ]
}